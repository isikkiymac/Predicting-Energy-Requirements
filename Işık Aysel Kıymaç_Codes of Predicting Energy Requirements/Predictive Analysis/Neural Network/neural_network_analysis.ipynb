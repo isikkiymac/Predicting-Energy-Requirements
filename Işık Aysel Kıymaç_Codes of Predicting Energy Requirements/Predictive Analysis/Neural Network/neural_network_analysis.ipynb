{
 "cells": [
  {
   "cell_type": "code",
   "execution_count": 2,
   "metadata": {},
   "outputs": [],
   "source": [
    "import pandas as pd\n",
    "import numpy as np\n",
    "\n",
    "data = pd.read_csv(\"hourly_data.csv\")\n",
    "\n",
    "data.head()\n",
    "\n",
    "data.drop(['Date'],axis=1,inplace=True)\n",
    "\n",
    "from sklearn.preprocessing import minmax_scale\n",
    "\n",
    "data.isna().sum()\n",
    "\n",
    "data.dropna(subset=['energy_consumption'], inplace=True)\n",
    "\n",
    "data.isna().sum()\n",
    "\n",
    "data.fillna(data.mean(), inplace=True)\n",
    "\n",
    "data.describe()\n",
    "\n",
    "cols = data.columns\n",
    "\n",
    "data = pd.DataFrame(minmax_scale(data[cols]),columns=data.columns,index=data.index)"
   ]
  },
  {
   "cell_type": "code",
   "execution_count": 3,
   "metadata": {},
   "outputs": [
    {
     "data": {
      "text/plain": [
       "24    0.285646\n",
       "25    0.298004\n",
       "26    0.303232\n",
       "27    0.307985\n",
       "28    0.302757\n",
       "Name: energy_consumption, dtype: float32"
      ]
     },
     "execution_count": 3,
     "metadata": {},
     "output_type": "execute_result"
    }
   ],
   "source": [
    "HORIZON = 1\n",
    "WINDOW_SIZE = 24\n",
    "\n",
    "for i in range(WINDOW_SIZE):\n",
    "    data[f\"energy_consumption+{i+1}\"] = data[\"energy_consumption\"].shift(periods=i+1)\n",
    "data.head(10)\n",
    "\n",
    "X = data.dropna().drop(\"energy_consumption\",axis=1).astype(np.float32)\n",
    "\n",
    "y = data.dropna()[\"energy_consumption\"].astype(np.float32)\n",
    "\n",
    "split_size = int(len(X)* 0.8)\n",
    "\n",
    "X_train, y_train = X[:split_size], y[:split_size]\n",
    "X_test, y_test = X[split_size:], y[split_size:]\n",
    "\n",
    "X_train.head()\n",
    "\n",
    "y_train.head()"
   ]
  },
  {
   "cell_type": "code",
   "execution_count": 4,
   "metadata": {},
   "outputs": [],
   "source": [
    "import tensorflow as tf\n",
    "import os\n",
    "from tensorflow.keras import layers"
   ]
  },
  {
   "cell_type": "code",
   "execution_count": 5,
   "metadata": {},
   "outputs": [
    {
     "name": "stdout",
     "output_type": "stream",
     "text": [
      "Epoch 1/100\n",
      "47/55 [========================>.....] - ETA: 0s - loss: 0.1283"
     ]
    },
    {
     "name": "stderr",
     "output_type": "stream",
     "text": [
      "WARNING:absl:Found untraced functions such as _update_step_xla while saving (showing 1 of 1). These functions will not be directly callable after loading.\n"
     ]
    },
    {
     "name": "stdout",
     "output_type": "stream",
     "text": [
      "INFO:tensorflow:Assets written to: model_exp/model_6_dense/assets\n"
     ]
    },
    {
     "name": "stderr",
     "output_type": "stream",
     "text": [
      "INFO:tensorflow:Assets written to: model_exp/model_6_dense/assets\n"
     ]
    },
    {
     "name": "stdout",
     "output_type": "stream",
     "text": [
      "55/55 [==============================] - 10s 75ms/step - loss: 0.1231 - val_loss: 0.0541\n",
      "Epoch 2/100\n",
      "55/55 [==============================] - ETA: 0s - loss: 0.0717"
     ]
    },
    {
     "name": "stderr",
     "output_type": "stream",
     "text": [
      "WARNING:absl:Found untraced functions such as _update_step_xla while saving (showing 1 of 1). These functions will not be directly callable after loading.\n"
     ]
    },
    {
     "name": "stdout",
     "output_type": "stream",
     "text": [
      "INFO:tensorflow:Assets written to: model_exp/model_6_dense/assets\n"
     ]
    },
    {
     "name": "stderr",
     "output_type": "stream",
     "text": [
      "INFO:tensorflow:Assets written to: model_exp/model_6_dense/assets\n"
     ]
    },
    {
     "name": "stdout",
     "output_type": "stream",
     "text": [
      "55/55 [==============================] - 1s 26ms/step - loss: 0.0717 - val_loss: 0.0424\n",
      "Epoch 3/100\n",
      "52/55 [===========================>..] - ETA: 0s - loss: 0.0518"
     ]
    },
    {
     "name": "stderr",
     "output_type": "stream",
     "text": [
      "WARNING:absl:Found untraced functions such as _update_step_xla while saving (showing 1 of 1). These functions will not be directly callable after loading.\n"
     ]
    },
    {
     "name": "stdout",
     "output_type": "stream",
     "text": [
      "INFO:tensorflow:Assets written to: model_exp/model_6_dense/assets\n"
     ]
    },
    {
     "name": "stderr",
     "output_type": "stream",
     "text": [
      "INFO:tensorflow:Assets written to: model_exp/model_6_dense/assets\n"
     ]
    },
    {
     "name": "stdout",
     "output_type": "stream",
     "text": [
      "55/55 [==============================] - 2s 28ms/step - loss: 0.0513 - val_loss: 0.0304\n",
      "Epoch 4/100\n",
      "55/55 [==============================] - 0s 9ms/step - loss: 0.0418 - val_loss: 0.0353\n",
      "Epoch 5/100\n",
      "55/55 [==============================] - 1s 10ms/step - loss: 0.0450 - val_loss: 0.0699\n",
      "Epoch 6/100\n",
      "55/55 [==============================] - ETA: 0s - loss: 0.0457"
     ]
    },
    {
     "name": "stderr",
     "output_type": "stream",
     "text": [
      "WARNING:absl:Found untraced functions such as _update_step_xla while saving (showing 1 of 1). These functions will not be directly callable after loading.\n"
     ]
    },
    {
     "name": "stdout",
     "output_type": "stream",
     "text": [
      "INFO:tensorflow:Assets written to: model_exp/model_6_dense/assets\n"
     ]
    },
    {
     "name": "stderr",
     "output_type": "stream",
     "text": [
      "INFO:tensorflow:Assets written to: model_exp/model_6_dense/assets\n"
     ]
    },
    {
     "name": "stdout",
     "output_type": "stream",
     "text": [
      "55/55 [==============================] - 2s 30ms/step - loss: 0.0457 - val_loss: 0.0246\n",
      "Epoch 7/100\n",
      "55/55 [==============================] - 0s 6ms/step - loss: 0.0418 - val_loss: 0.0482\n",
      "Epoch 8/100\n",
      "55/55 [==============================] - 0s 7ms/step - loss: 0.0369 - val_loss: 0.0277\n",
      "Epoch 9/100\n",
      "55/55 [==============================] - 1s 12ms/step - loss: 0.0396 - val_loss: 0.0461\n",
      "Epoch 10/100\n",
      "55/55 [==============================] - 0s 6ms/step - loss: 0.0371 - val_loss: 0.0465\n",
      "Epoch 11/100\n",
      "55/55 [==============================] - 0s 8ms/step - loss: 0.0410 - val_loss: 0.0260\n",
      "Epoch 12/100\n",
      "46/55 [========================>.....] - ETA: 0s - loss: 0.0416"
     ]
    },
    {
     "name": "stderr",
     "output_type": "stream",
     "text": [
      "WARNING:absl:Found untraced functions such as _update_step_xla while saving (showing 1 of 1). These functions will not be directly callable after loading.\n"
     ]
    },
    {
     "name": "stdout",
     "output_type": "stream",
     "text": [
      "INFO:tensorflow:Assets written to: model_exp/model_6_dense/assets\n"
     ]
    },
    {
     "name": "stderr",
     "output_type": "stream",
     "text": [
      "INFO:tensorflow:Assets written to: model_exp/model_6_dense/assets\n"
     ]
    },
    {
     "name": "stdout",
     "output_type": "stream",
     "text": [
      "55/55 [==============================] - 1s 20ms/step - loss: 0.0420 - val_loss: 0.0238\n",
      "Epoch 13/100\n",
      "44/55 [=======================>......] - ETA: 0s - loss: 0.0360"
     ]
    },
    {
     "name": "stderr",
     "output_type": "stream",
     "text": [
      "WARNING:absl:Found untraced functions such as _update_step_xla while saving (showing 1 of 1). These functions will not be directly callable after loading.\n"
     ]
    },
    {
     "name": "stdout",
     "output_type": "stream",
     "text": [
      "INFO:tensorflow:Assets written to: model_exp/model_6_dense/assets\n"
     ]
    },
    {
     "name": "stderr",
     "output_type": "stream",
     "text": [
      "INFO:tensorflow:Assets written to: model_exp/model_6_dense/assets\n"
     ]
    },
    {
     "name": "stdout",
     "output_type": "stream",
     "text": [
      "55/55 [==============================] - 1s 22ms/step - loss: 0.0352 - val_loss: 0.0189\n",
      "Epoch 14/100\n",
      "55/55 [==============================] - 0s 5ms/step - loss: 0.0336 - val_loss: 0.0281\n",
      "Epoch 15/100\n",
      "55/55 [==============================] - 0s 4ms/step - loss: 0.0400 - val_loss: 0.0339\n",
      "Epoch 16/100\n",
      "52/55 [===========================>..] - ETA: 0s - loss: 0.0301"
     ]
    },
    {
     "name": "stderr",
     "output_type": "stream",
     "text": [
      "WARNING:absl:Found untraced functions such as _update_step_xla while saving (showing 1 of 1). These functions will not be directly callable after loading.\n"
     ]
    },
    {
     "name": "stdout",
     "output_type": "stream",
     "text": [
      "INFO:tensorflow:Assets written to: model_exp/model_6_dense/assets\n"
     ]
    },
    {
     "name": "stderr",
     "output_type": "stream",
     "text": [
      "INFO:tensorflow:Assets written to: model_exp/model_6_dense/assets\n"
     ]
    },
    {
     "name": "stdout",
     "output_type": "stream",
     "text": [
      "55/55 [==============================] - 1s 19ms/step - loss: 0.0300 - val_loss: 0.0179\n",
      "Epoch 17/100\n",
      "55/55 [==============================] - 0s 5ms/step - loss: 0.0283 - val_loss: 0.0219\n",
      "Epoch 18/100\n",
      "47/55 [========================>.....] - ETA: 0s - loss: 0.0329"
     ]
    },
    {
     "name": "stderr",
     "output_type": "stream",
     "text": [
      "WARNING:absl:Found untraced functions such as _update_step_xla while saving (showing 1 of 1). These functions will not be directly callable after loading.\n"
     ]
    },
    {
     "name": "stdout",
     "output_type": "stream",
     "text": [
      "INFO:tensorflow:Assets written to: model_exp/model_6_dense/assets\n"
     ]
    },
    {
     "name": "stderr",
     "output_type": "stream",
     "text": [
      "INFO:tensorflow:Assets written to: model_exp/model_6_dense/assets\n"
     ]
    },
    {
     "name": "stdout",
     "output_type": "stream",
     "text": [
      "55/55 [==============================] - 1s 20ms/step - loss: 0.0332 - val_loss: 0.0163\n",
      "Epoch 19/100\n",
      "55/55 [==============================] - 0s 4ms/step - loss: 0.0298 - val_loss: 0.0374\n",
      "Epoch 20/100\n",
      "55/55 [==============================] - 0s 7ms/step - loss: 0.0358 - val_loss: 0.0493\n",
      "Epoch 21/100\n",
      "55/55 [==============================] - 0s 5ms/step - loss: 0.0313 - val_loss: 0.0168\n",
      "Epoch 22/100\n",
      "55/55 [==============================] - 0s 5ms/step - loss: 0.0296 - val_loss: 0.0196\n",
      "Epoch 23/100\n",
      "55/55 [==============================] - 0s 4ms/step - loss: 0.0308 - val_loss: 0.0424\n",
      "Epoch 24/100\n",
      "55/55 [==============================] - 0s 6ms/step - loss: 0.0276 - val_loss: 0.0225\n",
      "Epoch 25/100\n",
      "55/55 [==============================] - 0s 5ms/step - loss: 0.0313 - val_loss: 0.0310\n",
      "Epoch 26/100\n",
      "54/55 [============================>.] - ETA: 0s - loss: 0.0333"
     ]
    },
    {
     "name": "stderr",
     "output_type": "stream",
     "text": [
      "WARNING:absl:Found untraced functions such as _update_step_xla while saving (showing 1 of 1). These functions will not be directly callable after loading.\n"
     ]
    },
    {
     "name": "stdout",
     "output_type": "stream",
     "text": [
      "INFO:tensorflow:Assets written to: model_exp/model_6_dense/assets\n"
     ]
    },
    {
     "name": "stderr",
     "output_type": "stream",
     "text": [
      "INFO:tensorflow:Assets written to: model_exp/model_6_dense/assets\n"
     ]
    },
    {
     "name": "stdout",
     "output_type": "stream",
     "text": [
      "55/55 [==============================] - 1s 27ms/step - loss: 0.0331 - val_loss: 0.0141\n",
      "Epoch 27/100\n",
      "55/55 [==============================] - 1s 11ms/step - loss: 0.0245 - val_loss: 0.0343\n",
      "Epoch 28/100\n",
      "55/55 [==============================] - 0s 5ms/step - loss: 0.0308 - val_loss: 0.0522\n",
      "Epoch 29/100\n",
      "55/55 [==============================] - 0s 8ms/step - loss: 0.0248 - val_loss: 0.0151\n",
      "Epoch 30/100\n",
      "55/55 [==============================] - 0s 5ms/step - loss: 0.0278 - val_loss: 0.0322\n",
      "Epoch 31/100\n",
      "55/55 [==============================] - 0s 4ms/step - loss: 0.0353 - val_loss: 0.0237\n",
      "Epoch 32/100\n",
      "55/55 [==============================] - 0s 4ms/step - loss: 0.0258 - val_loss: 0.0292\n",
      "Epoch 33/100\n",
      "50/55 [==========================>...] - ETA: 0s - loss: 0.0308"
     ]
    },
    {
     "name": "stderr",
     "output_type": "stream",
     "text": [
      "WARNING:absl:Found untraced functions such as _update_step_xla while saving (showing 1 of 1). These functions will not be directly callable after loading.\n"
     ]
    },
    {
     "name": "stdout",
     "output_type": "stream",
     "text": [
      "INFO:tensorflow:Assets written to: model_exp/model_6_dense/assets\n"
     ]
    },
    {
     "name": "stderr",
     "output_type": "stream",
     "text": [
      "INFO:tensorflow:Assets written to: model_exp/model_6_dense/assets\n"
     ]
    },
    {
     "name": "stdout",
     "output_type": "stream",
     "text": [
      "55/55 [==============================] - 1s 19ms/step - loss: 0.0302 - val_loss: 0.0140\n",
      "Epoch 34/100\n",
      "49/55 [=========================>....] - ETA: 0s - loss: 0.0285"
     ]
    },
    {
     "name": "stderr",
     "output_type": "stream",
     "text": [
      "WARNING:absl:Found untraced functions such as _update_step_xla while saving (showing 1 of 1). These functions will not be directly callable after loading.\n"
     ]
    },
    {
     "name": "stdout",
     "output_type": "stream",
     "text": [
      "INFO:tensorflow:Assets written to: model_exp/model_6_dense/assets\n"
     ]
    },
    {
     "name": "stderr",
     "output_type": "stream",
     "text": [
      "INFO:tensorflow:Assets written to: model_exp/model_6_dense/assets\n"
     ]
    },
    {
     "name": "stdout",
     "output_type": "stream",
     "text": [
      "55/55 [==============================] - 1s 18ms/step - loss: 0.0284 - val_loss: 0.0130\n",
      "Epoch 35/100\n",
      "55/55 [==============================] - 0s 4ms/step - loss: 0.0304 - val_loss: 0.0211\n",
      "Epoch 36/100\n",
      "55/55 [==============================] - 0s 6ms/step - loss: 0.0221 - val_loss: 0.0225\n",
      "Epoch 37/100\n",
      "55/55 [==============================] - 0s 4ms/step - loss: 0.0261 - val_loss: 0.0221\n",
      "Epoch 38/100\n",
      "55/55 [==============================] - 0s 5ms/step - loss: 0.0320 - val_loss: 0.0297\n",
      "Epoch 39/100\n",
      "55/55 [==============================] - 1s 9ms/step - loss: 0.0296 - val_loss: 0.0267\n",
      "Epoch 40/100\n",
      "51/55 [==========================>...] - ETA: 0s - loss: 0.0303"
     ]
    },
    {
     "name": "stderr",
     "output_type": "stream",
     "text": [
      "WARNING:absl:Found untraced functions such as _update_step_xla while saving (showing 1 of 1). These functions will not be directly callable after loading.\n"
     ]
    },
    {
     "name": "stdout",
     "output_type": "stream",
     "text": [
      "INFO:tensorflow:Assets written to: model_exp/model_6_dense/assets\n"
     ]
    },
    {
     "name": "stderr",
     "output_type": "stream",
     "text": [
      "INFO:tensorflow:Assets written to: model_exp/model_6_dense/assets\n"
     ]
    },
    {
     "name": "stdout",
     "output_type": "stream",
     "text": [
      "55/55 [==============================] - 1s 20ms/step - loss: 0.0297 - val_loss: 0.0128\n",
      "Epoch 41/100\n",
      "55/55 [==============================] - 0s 4ms/step - loss: 0.0227 - val_loss: 0.0433\n",
      "Epoch 42/100\n",
      "48/55 [=========================>....] - ETA: 0s - loss: 0.0310"
     ]
    },
    {
     "name": "stderr",
     "output_type": "stream",
     "text": [
      "WARNING:absl:Found untraced functions such as _update_step_xla while saving (showing 1 of 1). These functions will not be directly callable after loading.\n"
     ]
    },
    {
     "name": "stdout",
     "output_type": "stream",
     "text": [
      "INFO:tensorflow:Assets written to: model_exp/model_6_dense/assets\n"
     ]
    },
    {
     "name": "stderr",
     "output_type": "stream",
     "text": [
      "INFO:tensorflow:Assets written to: model_exp/model_6_dense/assets\n"
     ]
    },
    {
     "name": "stdout",
     "output_type": "stream",
     "text": [
      "55/55 [==============================] - 1s 19ms/step - loss: 0.0301 - val_loss: 0.0120\n",
      "Epoch 43/100\n",
      "55/55 [==============================] - 0s 4ms/step - loss: 0.0231 - val_loss: 0.0334\n",
      "Epoch 44/100\n",
      "55/55 [==============================] - 0s 4ms/step - loss: 0.0293 - val_loss: 0.0277\n",
      "Epoch 45/100\n",
      "55/55 [==============================] - 0s 4ms/step - loss: 0.0225 - val_loss: 0.0166\n",
      "Epoch 46/100\n",
      "55/55 [==============================] - 0s 4ms/step - loss: 0.0277 - val_loss: 0.0122\n",
      "Epoch 47/100\n",
      "55/55 [==============================] - 0s 4ms/step - loss: 0.0237 - val_loss: 0.0140\n",
      "Epoch 48/100\n",
      "55/55 [==============================] - 0s 5ms/step - loss: 0.0262 - val_loss: 0.0296\n",
      "Epoch 49/100\n",
      "55/55 [==============================] - 0s 8ms/step - loss: 0.0336 - val_loss: 0.0778\n",
      "Epoch 50/100\n",
      "55/55 [==============================] - 0s 4ms/step - loss: 0.0446 - val_loss: 0.0647\n",
      "Epoch 51/100\n",
      "55/55 [==============================] - 0s 5ms/step - loss: 0.0330 - val_loss: 0.0263\n",
      "Epoch 52/100\n",
      "55/55 [==============================] - 0s 5ms/step - loss: 0.0267 - val_loss: 0.0302\n",
      "Epoch 53/100\n",
      "55/55 [==============================] - 0s 5ms/step - loss: 0.0230 - val_loss: 0.0124\n",
      "Epoch 54/100\n",
      "55/55 [==============================] - 0s 4ms/step - loss: 0.0274 - val_loss: 0.0348\n",
      "Epoch 55/100\n",
      "50/55 [==========================>...] - ETA: 0s - loss: 0.0240"
     ]
    },
    {
     "name": "stderr",
     "output_type": "stream",
     "text": [
      "WARNING:absl:Found untraced functions such as _update_step_xla while saving (showing 1 of 1). These functions will not be directly callable after loading.\n"
     ]
    },
    {
     "name": "stdout",
     "output_type": "stream",
     "text": [
      "INFO:tensorflow:Assets written to: model_exp/model_6_dense/assets\n"
     ]
    },
    {
     "name": "stderr",
     "output_type": "stream",
     "text": [
      "INFO:tensorflow:Assets written to: model_exp/model_6_dense/assets\n"
     ]
    },
    {
     "name": "stdout",
     "output_type": "stream",
     "text": [
      "55/55 [==============================] - 1s 18ms/step - loss: 0.0236 - val_loss: 0.0117\n",
      "Epoch 56/100\n",
      "55/55 [==============================] - 0s 5ms/step - loss: 0.0200 - val_loss: 0.0168\n",
      "Epoch 57/100\n",
      "55/55 [==============================] - 0s 4ms/step - loss: 0.0220 - val_loss: 0.0180\n",
      "Epoch 58/100\n",
      "55/55 [==============================] - 0s 4ms/step - loss: 0.0234 - val_loss: 0.0192\n",
      "Epoch 59/100\n",
      "55/55 [==============================] - 0s 6ms/step - loss: 0.0235 - val_loss: 0.0345\n",
      "Epoch 60/100\n",
      "55/55 [==============================] - 0s 5ms/step - loss: 0.0304 - val_loss: 0.0241\n",
      "Epoch 61/100\n",
      "55/55 [==============================] - 0s 4ms/step - loss: 0.0260 - val_loss: 0.0179\n",
      "Epoch 62/100\n",
      "55/55 [==============================] - 0s 4ms/step - loss: 0.0284 - val_loss: 0.0231\n",
      "Epoch 63/100\n",
      "55/55 [==============================] - 0s 4ms/step - loss: 0.0228 - val_loss: 0.0305\n",
      "Epoch 64/100\n",
      "55/55 [==============================] - 0s 5ms/step - loss: 0.0220 - val_loss: 0.0305\n",
      "Epoch 65/100\n",
      "55/55 [==============================] - 0s 4ms/step - loss: 0.0265 - val_loss: 0.0203\n",
      "Epoch 66/100\n",
      "50/55 [==========================>...] - ETA: 0s - loss: 0.0218"
     ]
    },
    {
     "name": "stderr",
     "output_type": "stream",
     "text": [
      "WARNING:absl:Found untraced functions such as _update_step_xla while saving (showing 1 of 1). These functions will not be directly callable after loading.\n"
     ]
    },
    {
     "name": "stdout",
     "output_type": "stream",
     "text": [
      "INFO:tensorflow:Assets written to: model_exp/model_6_dense/assets\n"
     ]
    },
    {
     "name": "stderr",
     "output_type": "stream",
     "text": [
      "INFO:tensorflow:Assets written to: model_exp/model_6_dense/assets\n"
     ]
    },
    {
     "name": "stdout",
     "output_type": "stream",
     "text": [
      "55/55 [==============================] - 1s 19ms/step - loss: 0.0216 - val_loss: 0.0110\n",
      "Epoch 67/100\n",
      "55/55 [==============================] - 0s 5ms/step - loss: 0.0258 - val_loss: 0.0223\n",
      "Epoch 68/100\n",
      "55/55 [==============================] - 0s 5ms/step - loss: 0.0259 - val_loss: 0.0404\n",
      "Epoch 69/100\n",
      "55/55 [==============================] - 0s 4ms/step - loss: 0.0265 - val_loss: 0.0230\n",
      "Epoch 70/100\n",
      "55/55 [==============================] - 0s 4ms/step - loss: 0.0260 - val_loss: 0.0344\n",
      "Epoch 71/100\n",
      "55/55 [==============================] - 0s 7ms/step - loss: 0.0238 - val_loss: 0.0133\n",
      "Epoch 72/100\n",
      "55/55 [==============================] - 0s 5ms/step - loss: 0.0243 - val_loss: 0.0165\n",
      "Epoch 73/100\n",
      "55/55 [==============================] - 0s 5ms/step - loss: 0.0254 - val_loss: 0.0309\n",
      "Epoch 74/100\n",
      "55/55 [==============================] - 0s 5ms/step - loss: 0.0286 - val_loss: 0.0142\n",
      "Epoch 75/100\n",
      "55/55 [==============================] - 0s 5ms/step - loss: 0.0224 - val_loss: 0.0125\n",
      "Epoch 76/100\n",
      "55/55 [==============================] - 0s 5ms/step - loss: 0.0214 - val_loss: 0.0164\n",
      "Epoch 77/100\n",
      "55/55 [==============================] - 0s 5ms/step - loss: 0.0212 - val_loss: 0.0181\n",
      "Epoch 78/100\n",
      "55/55 [==============================] - 0s 4ms/step - loss: 0.0275 - val_loss: 0.0241\n",
      "Epoch 79/100\n",
      "55/55 [==============================] - 0s 5ms/step - loss: 0.0198 - val_loss: 0.0124\n",
      "Epoch 80/100\n",
      "55/55 [==============================] - 0s 5ms/step - loss: 0.0247 - val_loss: 0.0339\n",
      "Epoch 81/100\n",
      "51/55 [==========================>...] - ETA: 0s - loss: 0.0224"
     ]
    },
    {
     "name": "stderr",
     "output_type": "stream",
     "text": [
      "WARNING:absl:Found untraced functions such as _update_step_xla while saving (showing 1 of 1). These functions will not be directly callable after loading.\n"
     ]
    },
    {
     "name": "stdout",
     "output_type": "stream",
     "text": [
      "INFO:tensorflow:Assets written to: model_exp/model_6_dense/assets\n"
     ]
    },
    {
     "name": "stderr",
     "output_type": "stream",
     "text": [
      "INFO:tensorflow:Assets written to: model_exp/model_6_dense/assets\n"
     ]
    },
    {
     "name": "stdout",
     "output_type": "stream",
     "text": [
      "55/55 [==============================] - 1s 20ms/step - loss: 0.0222 - val_loss: 0.0107\n",
      "Epoch 82/100\n",
      "55/55 [==============================] - 0s 7ms/step - loss: 0.0216 - val_loss: 0.0229\n",
      "Epoch 83/100\n",
      "55/55 [==============================] - 0s 5ms/step - loss: 0.0328 - val_loss: 0.0444\n",
      "Epoch 84/100\n",
      "55/55 [==============================] - 0s 4ms/step - loss: 0.0322 - val_loss: 0.0187\n",
      "Epoch 85/100\n",
      "55/55 [==============================] - 0s 4ms/step - loss: 0.0231 - val_loss: 0.0284\n",
      "Epoch 86/100\n",
      "55/55 [==============================] - 0s 5ms/step - loss: 0.0232 - val_loss: 0.0139\n",
      "Epoch 87/100\n",
      "55/55 [==============================] - 0s 4ms/step - loss: 0.0225 - val_loss: 0.0107\n",
      "Epoch 88/100\n",
      "51/55 [==========================>...] - ETA: 0s - loss: 0.0223"
     ]
    },
    {
     "name": "stderr",
     "output_type": "stream",
     "text": [
      "WARNING:absl:Found untraced functions such as _update_step_xla while saving (showing 1 of 1). These functions will not be directly callable after loading.\n"
     ]
    },
    {
     "name": "stdout",
     "output_type": "stream",
     "text": [
      "INFO:tensorflow:Assets written to: model_exp/model_6_dense/assets\n"
     ]
    },
    {
     "name": "stderr",
     "output_type": "stream",
     "text": [
      "INFO:tensorflow:Assets written to: model_exp/model_6_dense/assets\n"
     ]
    },
    {
     "name": "stdout",
     "output_type": "stream",
     "text": [
      "55/55 [==============================] - 1s 18ms/step - loss: 0.0227 - val_loss: 0.0106\n",
      "Epoch 89/100\n",
      "55/55 [==============================] - 0s 4ms/step - loss: 0.0252 - val_loss: 0.0141\n",
      "Epoch 90/100\n",
      "55/55 [==============================] - 0s 4ms/step - loss: 0.0201 - val_loss: 0.0145\n",
      "Epoch 91/100\n",
      "51/55 [==========================>...] - ETA: 0s - loss: 0.0228"
     ]
    },
    {
     "name": "stderr",
     "output_type": "stream",
     "text": [
      "WARNING:absl:Found untraced functions such as _update_step_xla while saving (showing 1 of 1). These functions will not be directly callable after loading.\n"
     ]
    },
    {
     "name": "stdout",
     "output_type": "stream",
     "text": [
      "INFO:tensorflow:Assets written to: model_exp/model_6_dense/assets\n"
     ]
    },
    {
     "name": "stderr",
     "output_type": "stream",
     "text": [
      "INFO:tensorflow:Assets written to: model_exp/model_6_dense/assets\n"
     ]
    },
    {
     "name": "stdout",
     "output_type": "stream",
     "text": [
      "55/55 [==============================] - 1s 23ms/step - loss: 0.0230 - val_loss: 0.0106\n",
      "Epoch 92/100\n",
      "55/55 [==============================] - 0s 7ms/step - loss: 0.0181 - val_loss: 0.0236\n",
      "Epoch 93/100\n",
      "55/55 [==============================] - 0s 5ms/step - loss: 0.0220 - val_loss: 0.0185\n",
      "Epoch 94/100\n",
      "55/55 [==============================] - 0s 5ms/step - loss: 0.0229 - val_loss: 0.0222\n",
      "Epoch 95/100\n",
      "43/55 [======================>.......] - ETA: 0s - loss: 0.0211"
     ]
    },
    {
     "name": "stderr",
     "output_type": "stream",
     "text": [
      "WARNING:absl:Found untraced functions such as _update_step_xla while saving (showing 1 of 1). These functions will not be directly callable after loading.\n"
     ]
    },
    {
     "name": "stdout",
     "output_type": "stream",
     "text": [
      "INFO:tensorflow:Assets written to: model_exp/model_6_dense/assets\n"
     ]
    },
    {
     "name": "stderr",
     "output_type": "stream",
     "text": [
      "INFO:tensorflow:Assets written to: model_exp/model_6_dense/assets\n"
     ]
    },
    {
     "name": "stdout",
     "output_type": "stream",
     "text": [
      "55/55 [==============================] - 1s 21ms/step - loss: 0.0204 - val_loss: 0.0106\n",
      "Epoch 96/100\n",
      "55/55 [==============================] - 0s 7ms/step - loss: 0.0194 - val_loss: 0.0314\n",
      "Epoch 97/100\n",
      "55/55 [==============================] - 0s 5ms/step - loss: 0.0294 - val_loss: 0.0175\n",
      "Epoch 98/100\n",
      "55/55 [==============================] - 0s 4ms/step - loss: 0.0244 - val_loss: 0.0192\n",
      "Epoch 99/100\n",
      "55/55 [==============================] - 0s 4ms/step - loss: 0.0209 - val_loss: 0.0166\n",
      "Epoch 100/100\n",
      "55/55 [==============================] - 0s 5ms/step - loss: 0.0221 - val_loss: 0.0206\n",
      "55/55 [==============================] - 0s 2ms/step - loss: 0.0106\n",
      "55/55 [==============================] - 0s 2ms/step\n"
     ]
    },
    {
     "data": {
      "text/plain": [
       "array([0.41223067, 0.40779468, 0.41001266, ..., 0.40826997, 0.39496198,\n",
       "       0.38878328], dtype=float32)"
      ]
     },
     "execution_count": 5,
     "metadata": {},
     "output_type": "execute_result"
    }
   ],
   "source": [
    "def create_model_checkpoint(model_name, save_path = \"model_exp\"):\n",
    "    return tf.keras.callbacks.ModelCheckpoint(filepath=os.path.join(save_path,model_name),verbose=0,save_best_only=True)\n",
    "\n",
    "tf.random.set_seed(42)\n",
    "\n",
    "model_6 = tf.keras.Sequential()\n",
    "model_6.add(tf.keras.layers.Dense(256,activation=\"sigmoid\"))\n",
    "model_6.add(tf.keras.layers.Dense(128,activation=\"sigmoid\"))\n",
    "model_6.add(tf.keras.layers.Dense(HORIZON))\n",
    "model_6._name=\"model_6_dense\"\n",
    "\n",
    "model_6.compile(loss=\"mae\",optimizer=tf.keras.optimizers.Adam())\n",
    "\n",
    "model_6.fit(X_train,y_train,epochs=100,batch_size=128,verbose=1,validation_data=(X_test,y_test),callbacks=[create_model_checkpoint(model_name=model_6.name)])\n",
    "\n",
    "model_6 = tf.keras.models.load_model(\"model_exp/model_6_dense\")\n",
    "model_6.evaluate(X_test,y_test)\n",
    "\n",
    "model_6_preds = tf.squeeze(model_6.predict(X_test))\n",
    "\n",
    "model_6_preds\n",
    "\n",
    "y_values = y_test.values\n",
    "\n",
    "model_values = model_6_preds.numpy()\n",
    "\n",
    "y_values"
   ]
  },
  {
   "cell_type": "code",
   "execution_count": 6,
   "metadata": {},
   "outputs": [
    {
     "data": {
      "image/png": "[encoded data removed]",
      "text/plain": [
       "<Figure size 432x288 with 1 Axes>"
      ]
     },
     "metadata": {
      "needs_background": "light"
     },
     "output_type": "display_data"
    }
   ],
   "source": [
    "import matplotlib.pyplot as plt\n",
    "from sklearn.metrics import mean_absolute_error\n",
    "\n",
    "plt.plot(model_values, label='Predicted Energy Consumption by Neural Network Analysis')\n",
    "plt.plot(y_values, label='Actual Values')\n",
    "\n",
    "plt.xlabel('Index')\n",
    "plt.ylabel('Value')\n",
    "plt.title('Comparison of Hourly Energy Consumption and Predicted Energy Consumption by Neural Network Analysis')\n",
    "\n",
    "#predicted_values = data['Predicted'].values\n",
    "#actual_values = data['energy_consumption'].values\n",
    "\n",
    "mse = np.mean((y_values - model_values) ** 2)\n",
    "mse_annotation = f'MSE: {mse:.4f}'\n",
    "\n",
    "mae = mean_absolute_error(y_values, model_values)\n",
    "plt.text(0.5, 0.9, f'MAE: {mae:.2f}', transform=plt.gca().transAxes)\n",
    "\n",
    "plt.annotate(mse_annotation, (0.5, 0.95), xycoords='axes fraction')\n",
    "\n",
    "plt.legend()\n",
    "\n",
    "# Display the plot\n",
    "plt.show()"
   ]
  },
  {
   "cell_type": "code",
   "execution_count": null,
   "metadata": {},
   "outputs": [],
   "source": []
  },
  {
   "cell_type": "code",
   "execution_count": null,
   "metadata": {},
   "outputs": [],
   "source": []
  }
 ],
 "metadata": {
  "kernelspec": {
   "display_name": "base",
   "language": "python",
   "name": "python3"
  },
  "language_info": {
   "codemirror_mode": {
    "name": "ipython",
    "version": 3
   },
   "file_extension": ".py",
   "mimetype": "text/x-python",
   "name": "python",
   "nbconvert_exporter": "python",
   "pygments_lexer": "ipython3",
   "version": "3.8.8"
  },
  "orig_nbformat": 4
 },
 "nbformat": 4,
 "nbformat_minor": 2
}
